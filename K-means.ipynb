{
 "cells": [
  {
   "cell_type": "code",
   "execution_count": null,
   "id": "2c0e6fce-cf44-4a4c-862e-9cac7be12237",
   "metadata": {},
   "outputs": [
    {
     "ename": "ModuleNotFoundError",
     "evalue": "No module named 'matplotlib'",
     "output_type": "error",
     "traceback": [
      "\u001b[31m---------------------------------------------------------------------------\u001b[39m",
      "\u001b[31mModuleNotFoundError\u001b[39m                       Traceback (most recent call last)",
      "\u001b[36mCell\u001b[39m\u001b[36m \u001b[39m\u001b[32mIn[4]\u001b[39m\u001b[32m, line 4\u001b[39m\n\u001b[32m      2\u001b[39m \u001b[38;5;28;01mimport\u001b[39;00m\u001b[38;5;250m \u001b[39m\u001b[34;01mnumpy\u001b[39;00m\u001b[38;5;250m \u001b[39m\u001b[38;5;28;01mas\u001b[39;00m\u001b[38;5;250m \u001b[39m\u001b[34;01mnp\u001b[39;00m\n\u001b[32m      3\u001b[39m \u001b[38;5;28;01mimport\u001b[39;00m\u001b[38;5;250m \u001b[39m\u001b[34;01mpandas\u001b[39;00m\u001b[38;5;250m \u001b[39m\u001b[38;5;28;01mas\u001b[39;00m\u001b[38;5;250m \u001b[39m\u001b[34;01mpd\u001b[39;00m\n\u001b[32m----> \u001b[39m\u001b[32m4\u001b[39m \u001b[38;5;28;01mimport\u001b[39;00m\u001b[38;5;250m \u001b[39m\u001b[34;01mmatplotlib\u001b[39;00m\u001b[34;01m.\u001b[39;00m\u001b[34;01mpyplot\u001b[39;00m\u001b[38;5;250m \u001b[39m\u001b[38;5;28;01mas\u001b[39;00m\u001b[38;5;250m \u001b[39m\u001b[34;01mplt\u001b[39;00m\n\u001b[32m      5\u001b[39m \u001b[38;5;28;01mfrom\u001b[39;00m\u001b[38;5;250m \u001b[39m\u001b[34;01msklearn\u001b[39;00m\u001b[34;01m.\u001b[39;00m\u001b[34;01mcluster\u001b[39;00m\u001b[38;5;250m \u001b[39m\u001b[38;5;28;01mimport\u001b[39;00m KMeans\n\u001b[32m      6\u001b[39m \u001b[38;5;28;01mfrom\u001b[39;00m\u001b[38;5;250m \u001b[39m\u001b[34;01msklearn\u001b[39;00m\u001b[34;01m.\u001b[39;00m\u001b[34;01mdatasets\u001b[39;00m\u001b[38;5;250m \u001b[39m\u001b[38;5;28;01mimport\u001b[39;00m load_iris\n",
      "\u001b[31mModuleNotFoundError\u001b[39m: No module named 'matplotlib'"
     ]
    }
   ],
   "source": [
    "# step 1: Import Required Libraries\n",
    "import numpy as np\n",
    "import pandas as pd\n",
    "import matplotlib.pyplot as plt\n",
    "from sklearn.cluster import KMeans\n",
    "from sklearn.datasets import load_iris\n",
    "from sklearn.preprocessing import StandardScaler\n",
    "\n",
    "# step 2: Load the Iris Dataset \n",
    "iris = load_iris()\n",
    "data = iris.data  # Extracting numerical features for clustering\n",
    "\n",
    "#  Step 3: Normalize the Dataset\n",
    "scaler = StandardScaler()  \n",
    "normalized_data = scaler.fit_transform(data)  # Standardizing features for fair distance calculations\n",
    "\n",
    "#  Step 4: Visualizing Raw Data \n",
    "plt.figure(figsize=(6, 4))\n",
    "plt.scatter(normalized_data[:, 0], normalized_data[:, 1], color='gray', alpha=0.6)\n",
    "plt.title(\"Raw Data (Before Clustering)\")\n",
    "plt.xlabel(\"Feature 1 (Normalized)\")\n",
    "plt.ylabel(\"Feature 2 (Normalized)\")\n",
    "plt.show()\n",
    "\n",
    "#  Step 5: Apply K-Means Clustering\n",
    "num_clusters = 3  # Number of clusters (since we know Iris has 3 species)\n",
    "kmeans_model = KMeans(n_clusters=num_clusters, random_state=42, n_init=10)\n",
    "kmeans_model.fit(normalized_data)  # Train the model\n",
    "\n",
    "#  Step 6: Get Cluster Labels & Centroids\n",
    "cluster_labels = kmeans_model.labels_  # Each data point is assigned to a cluster\n",
    "centroids = kmeans_model.cluster_centers_  # Find the central point of each cluster\n",
    "\n",
    "#  Step 7: Visualizing the Clustered Data\n",
    "plt.figure(figsize=(6, 4))\n",
    "plt.scatter(normalized_data[:, 0], normalized_data[:, 1], c=cluster_labels, cmap='coolwarm', alpha=0.6)\n",
    "plt.scatter(centroids[:, 0], centroids[:, 1], marker=\"X\", s=200, c=\"black\", label=\"Cluster Centers\")\n",
    "plt.title(\"K-Means Clustering on Iris Dataset (K=3)\")\n",
    "plt.xlabel(\"Feature 1 (Normalized)\")\n",
    "plt.ylabel(\"Feature 2 (Normalized)\")\n",
    "plt.legend()\n",
    "plt.show()\n",
    "\n",
    "#  Step 8: Using the Elbow Method to Find the Best K\n",
    "inertia_scores = []  # Stores the Within-Cluster Sum of Squares (WCSS)\n",
    "\n",
    "for k in range(1, 10):  \n",
    "    temp_kmeans = KMeans(n_clusters=k, random_state=42, n_init=10)\n",
    "    temp_kmeans.fit(normalized_data)\n",
    "    inertia_scores.append(temp_kmeans.inertia_)  # Store WCSS for each K\n",
    "\n",
    "#  Step 9: Plot the Elbow Curve\n",
    "plt.figure(figsize=(6, 4))\n",
    "plt.plot(range(1, 10), inertia_scores, marker='o', linestyle='--', color='b')\n",
    "plt.xlabel('Number of Clusters (K)')\n",
    "plt.ylabel('Within-Cluster Sum of Squares (WCSS)')\n",
    "plt.title('Elbow Method: Choosing the Optimal K')\n",
    "plt.show()"
   ]
  }
 ],
 "metadata": {
  "kernelspec": {
   "display_name": "Python 3",
   "language": "python",
   "name": "python3"
  },
  "language_info": {
   "codemirror_mode": {
    "name": "ipython",
    "version": 3
   },
   "file_extension": ".py",
   "mimetype": "text/x-python",
   "name": "python",
   "nbconvert_exporter": "python",
   "pygments_lexer": "ipython3",
   "version": "3.13.2"
  }
 },
 "nbformat": 4,
 "nbformat_minor": 5
}
